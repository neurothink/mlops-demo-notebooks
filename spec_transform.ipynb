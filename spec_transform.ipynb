{
 "cells": [
  {
   "cell_type": "markdown",
   "id": "daad8c5c-400e-409c-bfac-f7076f1547fb",
   "metadata": {},
   "source": [
    "# Spectral Data Transformation"
   ]
  },
  {
   "cell_type": "code",
   "execution_count": 17,
   "id": "17a3cb50-57c1-4d4f-a548-baba943d0bb3",
   "metadata": {},
   "outputs": [],
   "source": [
    "# Data transformation pipeline for raw mass spectrometry data\n",
    "#\n",
    "# Pseudocode:\n",
    "#\n",
    "# 1. Read datafile\n",
    "# 2. Modify column headings\n",
    "# 3. Clean and normalize data\n",
    "# 4. Add additional columns\n",
    "# 5. Save file\n",
    "#\n",
    "#\n"
   ]
  },
  {
   "cell_type": "code",
   "execution_count": 18,
   "id": "11143bf5-ef0f-4296-8f42-c46cc3ee7f7d",
   "metadata": {},
   "outputs": [],
   "source": [
    "# Load libraries\n",
    "\n",
    "import pandas as pd\n",
    "import numpy as np\n",
    "from array import *\n"
   ]
  },
  {
   "cell_type": "code",
   "execution_count": 25,
   "id": "be3870a9-152c-4c68-acef-5efb6806f4ce",
   "metadata": {},
   "outputs": [],
   "source": [
    "# Load raw data\n",
    "inFilename = '/datasets/spectral_data-csv/spectral_data.csv'\n",
    "outFilename = '/datasets/spectral_data-csv/spectral_data_mod.csv'\n",
    "\n",
    "rawFile=pd.read_csv(inFilename)"
   ]
  },
  {
   "cell_type": "code",
   "execution_count": 20,
   "id": "e3f73b32-d615-4fc5-a4c2-072fd269ca08",
   "metadata": {},
   "outputs": [],
   "source": [
    "# Modify column headings\n",
    "\n",
    "rawFile.columns = [\"record\",\"response_time\",\"mass_charge\",\"response_rate\",\"response_width\",\"response_group\"]"
   ]
  },
  {
   "cell_type": "code",
   "execution_count": 21,
   "id": "4fb3f7f2-8663-4026-9e02-5bac5b653c54",
   "metadata": {},
   "outputs": [],
   "source": [
    "# Clean data\n",
    "\n",
    "modFile = rawFile.replace(np.nan, 0)"
   ]
  },
  {
   "cell_type": "code",
   "execution_count": 22,
   "id": "fdf706cc-bdbd-4dc3-8590-d93fcaea1123",
   "metadata": {},
   "outputs": [],
   "source": [
    "# Create normalized columns\n",
    "\n",
    "modFile['norm_resp_rate'] = [element / max(modFile['response_rate']) for element in modFile['response_rate']]\n",
    "modFile['norm_resp_width'] = [element / max(modFile['response_width']) for element in modFile['response_width']]\n"
   ]
  },
  {
   "cell_type": "code",
   "execution_count": 23,
   "id": "673e74d0-64ff-4cdb-8b0e-429a5d3f9805",
   "metadata": {},
   "outputs": [],
   "source": [
    "# Add response half-width intervals\n",
    "\n",
    "modFile['response_low'] = modFile['response_time'] - modFile['response_width']/2\n",
    "modFile['response_high'] = modFile['response_time'] + modFile['response_width']/2"
   ]
  },
  {
   "cell_type": "code",
   "execution_count": 26,
   "id": "4570dbd0-02cc-464c-8475-21ec6281af22",
   "metadata": {},
   "outputs": [],
   "source": [
    "modFile.to_csv(outFilename)"
   ]
  },
  {
   "cell_type": "code",
   "execution_count": null,
   "id": "5a0f284c-bc01-4c16-9ff1-883c74bf9252",
   "metadata": {},
   "outputs": [],
   "source": []
  }
 ],
 "metadata": {
  "kernelspec": {
   "display_name": "Python 3 (ipykernel)",
   "language": "python",
   "name": "python3"
  },
  "language_info": {
   "codemirror_mode": {
    "name": "ipython",
    "version": 3
   },
   "file_extension": ".py",
   "mimetype": "text/x-python",
   "name": "python",
   "nbconvert_exporter": "python",
   "pygments_lexer": "ipython3",
   "version": "3.10.8"
  }
 },
 "nbformat": 4,
 "nbformat_minor": 5
}
